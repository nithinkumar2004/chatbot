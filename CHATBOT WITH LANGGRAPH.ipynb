{
 "cells": [
  {
   "cell_type": "code",
   "execution_count": null,
   "metadata": {
    "colab": {
     "base_uri": "https://localhost:8080/"
    },
    "executionInfo": {
     "elapsed": 3022,
     "status": "ok",
     "timestamp": 1740285980334,
     "user": {
      "displayName": "Satya Nithin",
      "userId": "13009464116767271545"
     },
     "user_tz": -330
    },
    "id": "Q5sCMnkjHXgs",
    "outputId": "db080e39-3882-4c8b-ad1c-65c22709be1e"
   },
   "outputs": [],
   "source": [
    "!pip install langgraph"
   ]
  },
  {
   "cell_type": "code",
   "execution_count": null,
   "metadata": {
    "colab": {
     "base_uri": "https://localhost:8080/"
    },
    "executionInfo": {
     "elapsed": 6525,
     "status": "ok",
     "timestamp": 1740286160624,
     "user": {
      "displayName": "Satya Nithin",
      "userId": "13009464116767271545"
     },
     "user_tz": -330
    },
    "id": "oBQ0FZtUI0Cj",
    "outputId": "2aaab656-761a-49d9-ec31-c95e3e6da2b5"
   },
   "outputs": [],
   "source": [
    "!pip install langchain langchain_groq langchain_community"
   ]
  },
  {
   "cell_type": "code",
   "execution_count": null,
   "metadata": {
    "colab": {
     "base_uri": "https://localhost:8080/"
    },
    "executionInfo": {
     "elapsed": 3284,
     "status": "ok",
     "timestamp": 1740286785118,
     "user": {
      "displayName": "Satya Nithin",
      "userId": "13009464116767271545"
     },
     "user_tz": -330
    },
    "id": "0Sij5GsGHRBj",
    "outputId": "583d177b-6b9c-4795-c256-f77be082ee53"
   },
   "outputs": [],
   "source": [
    "from google.colab import userdata\n",
    "groq_api_key=userdata.get('groq_api_key')\n",
    "langsmith=userdata.get('LANGSMITH_API_KEY')\n",
    "print(langsmith)"
   ]
  },
  {
   "cell_type": "code",
   "execution_count": null,
   "metadata": {
    "executionInfo": {
     "elapsed": 32,
     "status": "ok",
     "timestamp": 1740286905976,
     "user": {
      "displayName": "Satya Nithin",
      "userId": "13009464116767271545"
     },
     "user_tz": -330
    },
    "id": "X2a_UksbLEUO"
   },
   "outputs": [],
   "source": [
    "import os\n",
    "os.environ[\"LANGCHAIN_API_KEY\"]=langsmith\n",
    "os.environ[\"LANGCHAIN_TRACING_V2\"]=\"true\"\n",
    "os.environ[\"LANGCHAIN_PROJECT\"]=\"CourseLanggraph\""
   ]
  },
  {
   "cell_type": "code",
   "execution_count": null,
   "metadata": {
    "executionInfo": {
     "elapsed": 8,
     "status": "ok",
     "timestamp": 1740286913284,
     "user": {
      "displayName": "Satya Nithin",
      "userId": "13009464116767271545"
     },
     "user_tz": -330
    },
    "id": "35dScu9pKLOQ"
   },
   "outputs": [],
   "source": [
    "from langchain_groq import ChatGroq"
   ]
  },
  {
   "cell_type": "code",
   "execution_count": null,
   "metadata": {
    "colab": {
     "base_uri": "https://localhost:8080/"
    },
    "executionInfo": {
     "elapsed": 97,
     "status": "ok",
     "timestamp": 1740286915538,
     "user": {
      "displayName": "Satya Nithin",
      "userId": "13009464116767271545"
     },
     "user_tz": -330
    },
    "id": "UFigPdxrKTSO",
    "outputId": "179ce36b-15f4-4904-8aa8-7d442d9b4e8b"
   },
   "outputs": [],
   "source": [
    "llm=ChatGroq(groq_api_key=groq_api_key,model_name=\"Gemma2-9b-It\")\n",
    "llm"
   ]
  },
  {
   "cell_type": "markdown",
   "metadata": {
    "id": "re5LOFWUKV-I"
   },
   "source": [
    "CHATBOT USING LANGGRAPH\n"
   ]
  },
  {
   "cell_type": "code",
   "execution_count": null,
   "metadata": {
    "executionInfo": {
     "elapsed": 45,
     "status": "ok",
     "timestamp": 1740286590615,
     "user": {
      "displayName": "Satya Nithin",
      "userId": "13009464116767271545"
     },
     "user_tz": -330
    },
    "id": "qq0YvSOhKdye"
   },
   "outputs": [],
   "source": [
    "from typing import Annotated\n",
    "from typing_extensions import TypedDict\n",
    "from langgraph.graph import StateGraph,START,END\n",
    "from langgraph.graph.message import add_messages"
   ]
  },
  {
   "cell_type": "code",
   "execution_count": null,
   "metadata": {
    "executionInfo": {
     "elapsed": 18,
     "status": "ok",
     "timestamp": 1740286600621,
     "user": {
      "displayName": "Satya Nithin",
      "userId": "13009464116767271545"
     },
     "user_tz": -330
    },
    "id": "QccHPgLQKgeG"
   },
   "outputs": [],
   "source": [
    "class State(TypedDict):\n",
    "  # Messages have the type \"list\". The `add_messages` function\n",
    "    # in the annotation defines how this state key should be updated\n",
    "    # (in this case, it appends messages to the list, rather than overwriting them)\n",
    "  messages:Annotated[list,add_messages]\n",
    "\n",
    "graph_builder=StateGraph(State)\n"
   ]
  },
  {
   "cell_type": "code",
   "execution_count": null,
   "metadata": {
    "colab": {
     "base_uri": "https://localhost:8080/"
    },
    "executionInfo": {
     "elapsed": 53,
     "status": "ok",
     "timestamp": 1740287192311,
     "user": {
      "displayName": "Satya Nithin",
      "userId": "13009464116767271545"
     },
     "user_tz": -330
    },
    "id": "fLq2k2FpKkWm",
    "outputId": "b50cf0be-1822-4336-d8eb-848089bbec09"
   },
   "outputs": [],
   "source": [
    "graph_builder"
   ]
  },
  {
   "cell_type": "code",
   "execution_count": null,
   "metadata": {
    "executionInfo": {
     "elapsed": 14,
     "status": "ok",
     "timestamp": 1740287194273,
     "user": {
      "displayName": "Satya Nithin",
      "userId": "13009464116767271545"
     },
     "user_tz": -330
    },
    "id": "Ec3HM2mQMEFr"
   },
   "outputs": [],
   "source": [
    "def chatbot(state:State):\n",
    "  return {\"messages\":llm.invoke(state['messages'])}"
   ]
  },
  {
   "cell_type": "code",
   "execution_count": null,
   "metadata": {
    "colab": {
     "base_uri": "https://localhost:8080/"
    },
    "executionInfo": {
     "elapsed": 17,
     "status": "ok",
     "timestamp": 1740287196044,
     "user": {
      "displayName": "Satya Nithin",
      "userId": "13009464116767271545"
     },
     "user_tz": -330
    },
    "id": "uddQAa-TMe5x",
    "outputId": "6db4a4de-020f-4e53-c44a-8d298f8f23e9"
   },
   "outputs": [],
   "source": [
    " graph_builder.add_node(\"chatbot\",chatbot)"
   ]
  },
  {
   "cell_type": "code",
   "execution_count": null,
   "metadata": {
    "colab": {
     "base_uri": "https://localhost:8080/"
    },
    "executionInfo": {
     "elapsed": 54,
     "status": "ok",
     "timestamp": 1740287261777,
     "user": {
      "displayName": "Satya Nithin",
      "userId": "13009464116767271545"
     },
     "user_tz": -330
    },
    "id": "nh7QFsgbKpJw",
    "outputId": "b122cae0-2244-41d8-e634-112aeb82d490"
   },
   "outputs": [],
   "source": [
    "graph_builder.add_edge(START,\"chatbot\")\n",
    "graph_builder.add_edge(\"chatbot\",END)"
   ]
  },
  {
   "cell_type": "code",
   "execution_count": null,
   "metadata": {
    "executionInfo": {
     "elapsed": 29,
     "status": "ok",
     "timestamp": 1740287307845,
     "user": {
      "displayName": "Satya Nithin",
      "userId": "13009464116767271545"
     },
     "user_tz": -330
    },
    "id": "4-xA5KqZKrN-"
   },
   "outputs": [],
   "source": [
    "graph=graph_builder.compile()"
   ]
  },
  {
   "cell_type": "code",
   "execution_count": null,
   "metadata": {
    "colab": {
     "base_uri": "https://localhost:8080/",
     "height": 251
    },
    "executionInfo": {
     "elapsed": 117,
     "status": "ok",
     "timestamp": 1740287332745,
     "user": {
      "displayName": "Satya Nithin",
      "userId": "13009464116767271545"
     },
     "user_tz": -330
    },
    "id": "09VkC2KwNQnh",
    "outputId": "71bd2cdf-ec32-4730-b9f1-3635f3079efc"
   },
   "outputs": [],
   "source": [
    "from IPython.display import Image, display\n",
    "try:\n",
    "  display(Image(graph.get_graph().draw_mermaid_png()))\n",
    "except Exception:\n",
    "  pass"
   ]
  },
  {
   "cell_type": "code",
   "execution_count": null,
   "metadata": {
    "colab": {
     "base_uri": "https://localhost:8080/",
     "height": 1000
    },
    "executionInfo": {
     "elapsed": 104149,
     "status": "error",
     "timestamp": 1740287503411,
     "user": {
      "displayName": "Satya Nithin",
      "userId": "13009464116767271545"
     },
     "user_tz": -330
    },
    "id": "ZCgT9VfUNcfO",
    "outputId": "b7242035-a612-4a67-ff08-2255c3cf3462"
   },
   "outputs": [],
   "source": [
    "while True:\n",
    "  user_input=input(\"User: \")\n",
    "  if user_input.lower() in [\"quit\",\"q\"]:\n",
    "    print(\"Good Bye\")\n",
    "    break\n",
    "  for event in graph.stream({'messages':(\"user\",user_input)}):\n",
    "    print(event.values())\n",
    "    for value in event.values():\n",
    "      print(value['messages'])\n",
    "      print(\"Assistant:\",value[\"messages\"].content)"
   ]
  }
 ],
 "metadata": {
  "accelerator": "GPU",
  "colab": {
   "authorship_tag": "ABX9TyOSJz+3jv+jymLjchCuLLyG",
   "gpuType": "T4",
   "provenance": []
  },
  "kernelspec": {
   "display_name": "Python 3",
   "name": "python3"
  },
  "language_info": {
   "codemirror_mode": {
    "name": "ipython",
    "version": 3
   },
   "file_extension": ".py",
   "mimetype": "text/x-python",
   "name": "python",
   "nbconvert_exporter": "python",
   "pygments_lexer": "ipython3",
   "version": "3.13.2"
  }
 },
 "nbformat": 4,
 "nbformat_minor": 0
}
